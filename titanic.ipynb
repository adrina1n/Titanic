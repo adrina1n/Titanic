{
 "cells": [
  {
   "cell_type": "code",
   "execution_count": null,
   "id": "f5904836",
   "metadata": {},
   "outputs": [],
   "source": [
    "import pandas as pd \n",
    "import csv\n",
    "import requests\n",
    "import numpy as np\n",
    "import matplotlib.pyplot as plt\n",
    "\n",
    "import xgboost\n",
    "from xgboost import XGBClassifier\n",
    "from sklearn.metrics import (\n",
    "    accuracy_score,\n",
    "    precision_score,\n",
    "    recall_score,\n",
    "    f1_score,\n",
    ")\n",
    "from sklearn.model_selection import train_test_split\n",
    "\n",
    "from sklearn.impute import SimpleImputer \n",
    "from sklearn.preprocessing import StandardScaler\n",
    "\n",
    "from sklearn.preprocessing import LabelEncoder, OrdinalEncoder, OneHotEncoder\n",
    "\n",
    "from sklearn.model_selection import GridSearchCV, RandomizedSearchCV\n",
    "from sklearn.metrics import (\n",
    "    accuracy_score,\n",
    "    precision_score,\n",
    "    recall_score,\n",
    "    f1_score\n",
    ")\n",
    "from skopt import BayesSearchCV\n",
    "from skopt.space import Real, Integer\n",
    "from scipy.stats import uniform, poisson"
   ]
  },
  {
   "cell_type": "code",
   "execution_count": null,
   "id": "bb746ea1",
   "metadata": {},
   "outputs": [],
   "source": [
    "# Traitement de la data\n",
    "\n",
    "test = pd.read_csv('test_data.csv')\n",
    "train = pd.read_csv('train_data.csv')\n",
    "\n",
    "y = train.Survived\n",
    "\n",
    "#on drop  les noms car pas de liens (à mon avis)\n",
    "feat = ['Name', 'Survived']\n",
    "X_train = train.drop(columns = feat)\n",
    "X_test = test.drop(columns = 'Name')\n",
    "\n",
    "\n",
    "# on supprime ticket car ne sert à rien\n",
    "X_train = X_train.drop(columns = 'Ticket')\n",
    "X_test = X_test.drop(columns = 'Ticket')\n",
    "\n",
    "\n",
    "\n",
    "# one-hot encoder pour Embarked et Sex\n",
    "featoh = ['Sex', 'Embarked']\n",
    "\n",
    "OH = OneHotEncoder(handle_unknown='ignore', sparse_output=False)\n",
    "oh_train = pd.DataFrame(OH.fit_transform(X_train[featoh]))\n",
    "oh_val = pd.DataFrame(OH.transform(X_test[featoh]))\n",
    "\n",
    "\n",
    "\n",
    "#remettre les indexes\n",
    "oh_train.index = X_train.index\n",
    "oh_val.index = X_test.index\n",
    "\n",
    "\n",
    "X_train = X_train.drop(columns = featoh)\n",
    "X_test = X_test.drop(columns = featoh)\n",
    "\n",
    "# on recolle\n",
    "X_train_f = pd.concat([X_train, oh_train], axis = 1)\n",
    "X_test_f = pd.concat([X_test, oh_val], axis = 1)\n",
    "\n",
    "X_train_f = X_train_f.drop(columns = 'Cabin')\n",
    "X_test_f = X_test_f.drop(columns = 'Cabin')\n",
    "\n"
   ]
  },
  {
   "cell_type": "code",
   "execution_count": null,
   "id": "50d90812",
   "metadata": {},
   "outputs": [],
   "source": [
    "# création du modèle\n",
    "model = XGBClassifier(random_state = 1)\n"
   ]
  },
  {
   "cell_type": "code",
   "execution_count": 77,
   "id": "f27fc55d",
   "metadata": {},
   "outputs": [
    {
     "name": "stdout",
     "output_type": "stream",
     "text": [
      "OrderedDict({'learning_rate': 0.002606083634409021, 'max_depth': 3, 'n_estimators': 761, 'reg_alpha': 0.023277942764233707, 'reg_lambda': 0.9729063707072745})\n"
     ]
    }
   ],
   "source": [
    "# Optimisation des paramètres par méthode Bayesienne\n",
    "p = {\n",
    "    'n_estimators' : Integer(50, 1000, prior = 'uniform'),\n",
    "    'max_depth' : Integer(3, 10, prior = 'uniform'),\n",
    "    'learning_rate' : Real(0.0001, 0.3, prior = 'log-uniform'),\n",
    "    'reg_alpha' : Real(0.01, 1.0, prior = 'log-uniform'),\n",
    "    'reg_lambda': Real(0.001, 1.5, prior = 'log-uniform'),\n",
    "}\n",
    "\n",
    "opt = BayesSearchCV(XGBClassifier(random_state = 1), p, cv = 3, n_jobs = -1, random_state = 1, n_iter = 50)\n",
    "opt.fit(X_train_f, y_train)\n",
    "print(opt.best_params_)"
   ]
  },
  {
   "cell_type": "code",
   "execution_count": null,
   "id": "6cd1a0cb",
   "metadata": {},
   "outputs": [],
   "source": [
    "# On lui donne les meilleurs paramètres et on l'entraîne\n",
    "m = opt.best_estimator_\n",
    "m.fit(X_train_f, y)\n",
    "prds = m.predict(X_test_f)\n"
   ]
  },
  {
   "cell_type": "code",
   "execution_count": null,
   "id": "16fb6ffc",
   "metadata": {},
   "outputs": [
    {
     "name": "stdout",
     "output_type": "stream",
     "text": [
      "✅ submission.csv prêt !\n"
     ]
    }
   ],
   "source": [
    "# Juste mettre résultat sous forme CSV pour submit le résultat sur Kaggle\n",
    "output = pd.DataFrame({\n",
    "    'PassengerId': test['PassengerId'],\n",
    "    'Survived': prds.astype(int)\n",
    "})\n",
    "\n",
    "output.to_csv('submission.csv', index=False)\n",
    "print(\"✅ submission.csv prêt !\")"
   ]
  },
  {
   "cell_type": "markdown",
   "id": "47c19af8",
   "metadata": {},
   "source": [
    "J'ai obtenue une précision de 81 % avec mon X_val(supprimé ici) et sur le site Kaggle j'obtien 78,4% (petite baisse mais reste solide)"
   ]
  }
 ],
 "metadata": {
  "kernelspec": {
   "display_name": ".venv",
   "language": "python",
   "name": "python3"
  },
  "language_info": {
   "codemirror_mode": {
    "name": "ipython",
    "version": 3
   },
   "file_extension": ".py",
   "mimetype": "text/x-python",
   "name": "python",
   "nbconvert_exporter": "python",
   "pygments_lexer": "ipython3",
   "version": "3.13.7"
  }
 },
 "nbformat": 4,
 "nbformat_minor": 5
}
